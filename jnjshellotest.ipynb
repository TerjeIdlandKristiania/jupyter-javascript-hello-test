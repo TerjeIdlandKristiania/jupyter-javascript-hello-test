{
 "cells": [
  {
   "cell_type": "code",
   "execution_count": null,
   "id": "c6c69316-6b61-44f9-9d4b-2e4bce8899f4",
   "metadata": {},
   "outputs": [],
   "source": [
    "%%javascript\n",
    "\n",
    "let i = 0;\n",
    "while (i < 8) {\n",
    "    console.log('Tallet er ' + i + ' , ');\n",
    "    i++;\n",
    "}"
   ]
  }
 ],
 "metadata": {
  "kernelspec": {
   "display_name": "Python 3 (ipykernel)",
   "language": "python",
   "name": "python3"
  },
  "language_info": {
   "codemirror_mode": {
    "name": "ipython",
    "version": 3
   },
   "file_extension": ".py",
   "mimetype": "text/x-python",
   "name": "python",
   "nbconvert_exporter": "python",
   "pygments_lexer": "ipython3",
   "version": "3.10.13"
  }
 },
 "nbformat": 4,
 "nbformat_minor": 5
}
